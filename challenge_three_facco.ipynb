{
  "cells": [
    {
      "cell_type": "markdown",
      "id": "k-JIRqBlrumk",
      "metadata": {
        "id": "k-JIRqBlrumk"
      },
      "source": [
        "# Challenge 3: Artificial Neural Networks\n",
        "\n",
        "<a target=\"_blank\" href=\"https://colab.research.google.com/github/LucaPennella/Intro_to_ML_23-24/blob/main/challenges/challenge-three.ipynb\">\n",
        "  <img src=\"https://colab.research.google.com/assets/colab-badge.svg\" alt=\"Open In Colab\"/>\n",
        "</a>\n",
        "\n",
        "\n",
        "Using Fully Connected Neural Networks and Convolutional Neural Networks, perform the following tasks on [this data set](https://pytorch.org/vision/stable/generated/torchvision.datasets.KMNIST.html#torchvision.datasets.KMNIST).\n",
        "1. Data exploration.\n",
        "2. For each architecture, tune the number of the hidden layers ($\\le 3$), the optimizer, and some hyperparameters of your choice. How many tries to do is up to your discretion.\n",
        "3. Summarise your results in a table and comment on them in the report.\n",
        "4. For a model (not necessarily the best performing one), plot training loss vs testing loss and training accuracy vs testing accuracy, and comment on what you see."
      ]
    },
    {
      "cell_type": "code",
      "execution_count": 1,
      "id": "9cb10b3e",
      "metadata": {
        "colab": {
          "base_uri": "https://localhost:8080/"
        },
        "id": "9cb10b3e",
        "outputId": "76aecfce-3c06-49f1-9737-7ef9c6c10557"
      },
      "outputs": [
        {
          "output_type": "execute_result",
          "data": {
            "text/plain": [
              "<torch._C.Generator at 0x78a11ff66d10>"
            ]
          },
          "metadata": {},
          "execution_count": 1
        }
      ],
      "source": [
        "import numpy as np\n",
        "import matplotlib.pyplot as plt\n",
        "from scipy import linalg as LA\n",
        "import random\n",
        "import pandas as pd\n",
        "\n",
        "import torch\n",
        "import torch.nn as nn\n",
        "import torch.nn.functional as F\n",
        "import torchvision\n",
        "import torchvision.transforms as transforms\n",
        "from time import time\n",
        "\n",
        "torch.manual_seed(0)"
      ]
    },
    {
      "cell_type": "markdown",
      "id": "7967b20b",
      "metadata": {
        "id": "7967b20b"
      },
      "source": [
        "## Data exploration"
      ]
    },
    {
      "cell_type": "markdown",
      "source": [],
      "metadata": {
        "id": "L6NJRqT8LE5Q"
      },
      "id": "L6NJRqT8LE5Q"
    },
    {
      "cell_type": "code",
      "execution_count": 2,
      "id": "a2d99ccd",
      "metadata": {
        "colab": {
          "base_uri": "https://localhost:8080/"
        },
        "id": "a2d99ccd",
        "outputId": "0547149d-2b6e-4dab-d04d-d7d500bc022b"
      },
      "outputs": [
        {
          "output_type": "stream",
          "name": "stdout",
          "text": [
            "Downloading http://codh.rois.ac.jp/kmnist/dataset/kmnist/train-images-idx3-ubyte.gz\n",
            "Downloading http://codh.rois.ac.jp/kmnist/dataset/kmnist/train-images-idx3-ubyte.gz to ./data/KMNIST/raw/train-images-idx3-ubyte.gz\n"
          ]
        },
        {
          "output_type": "stream",
          "name": "stderr",
          "text": [
            "100%|██████████| 18165135/18165135 [00:16<00:00, 1100009.21it/s]\n"
          ]
        },
        {
          "output_type": "stream",
          "name": "stdout",
          "text": [
            "Extracting ./data/KMNIST/raw/train-images-idx3-ubyte.gz to ./data/KMNIST/raw\n",
            "\n",
            "Downloading http://codh.rois.ac.jp/kmnist/dataset/kmnist/train-labels-idx1-ubyte.gz\n",
            "Downloading http://codh.rois.ac.jp/kmnist/dataset/kmnist/train-labels-idx1-ubyte.gz to ./data/KMNIST/raw/train-labels-idx1-ubyte.gz\n"
          ]
        },
        {
          "output_type": "stream",
          "name": "stderr",
          "text": [
            "100%|██████████| 29497/29497 [00:00<00:00, 199044.01it/s]\n"
          ]
        },
        {
          "output_type": "stream",
          "name": "stdout",
          "text": [
            "Extracting ./data/KMNIST/raw/train-labels-idx1-ubyte.gz to ./data/KMNIST/raw\n",
            "\n",
            "Downloading http://codh.rois.ac.jp/kmnist/dataset/kmnist/t10k-images-idx3-ubyte.gz\n",
            "Downloading http://codh.rois.ac.jp/kmnist/dataset/kmnist/t10k-images-idx3-ubyte.gz to ./data/KMNIST/raw/t10k-images-idx3-ubyte.gz\n"
          ]
        },
        {
          "output_type": "stream",
          "name": "stderr",
          "text": [
            "100%|██████████| 3041136/3041136 [00:03<00:00, 986933.09it/s] \n"
          ]
        },
        {
          "output_type": "stream",
          "name": "stdout",
          "text": [
            "Extracting ./data/KMNIST/raw/t10k-images-idx3-ubyte.gz to ./data/KMNIST/raw\n",
            "\n",
            "Downloading http://codh.rois.ac.jp/kmnist/dataset/kmnist/t10k-labels-idx1-ubyte.gz\n",
            "Downloading http://codh.rois.ac.jp/kmnist/dataset/kmnist/t10k-labels-idx1-ubyte.gz to ./data/KMNIST/raw/t10k-labels-idx1-ubyte.gz\n"
          ]
        },
        {
          "output_type": "stream",
          "name": "stderr",
          "text": [
            "100%|██████████| 5120/5120 [00:00<00:00, 5709874.10it/s]"
          ]
        },
        {
          "output_type": "stream",
          "name": "stdout",
          "text": [
            "Extracting ./data/KMNIST/raw/t10k-labels-idx1-ubyte.gz to ./data/KMNIST/raw\n",
            "\n",
            "60000\n",
            "10000\n"
          ]
        },
        {
          "output_type": "stream",
          "name": "stderr",
          "text": [
            "\n"
          ]
        }
      ],
      "source": [
        "BATCH_SIZE = 64\n",
        "\n",
        "data_transforms = transforms.ToTensor()\n",
        "\n",
        "## TRAIN set\n",
        "trainset = torchvision.datasets.KMNIST(root='./data', train=True, download=True, transform=data_transforms)\n",
        "trainloader = torch.utils.data.DataLoader(trainset, batch_size=BATCH_SIZE, shuffle=True)\n",
        "print(len(trainset))\n",
        "\n",
        "## TEST set\n",
        "testset = torchvision.datasets.KMNIST(root='./data', train=False, download=True, transform=data_transforms)\n",
        "testloader = torch.utils.data.DataLoader(testset, batch_size=BATCH_SIZE, shuffle=False)\n",
        "print(len(testset))"
      ]
    },
    {
      "cell_type": "code",
      "execution_count": 3,
      "id": "b72c78e5",
      "metadata": {
        "colab": {
          "base_uri": "https://localhost:8080/",
          "height": 397
        },
        "id": "b72c78e5",
        "outputId": "9d60fe27-516a-4b72-f8f3-48a5a6ae7a62"
      },
      "outputs": [
        {
          "output_type": "display_data",
          "data": {
            "text/plain": [
              "<Figure size 750x400 with 10 Axes>"
            ],
            "image/png": "[encoded data removed]"
          },
          "metadata": {}
        },
        {
          "output_type": "stream",
          "name": "stdout",
          "text": [
            "Classes: ['o', 'ki', 'su', 'tsu', 'na', 'ha', 'ma', 'ya', 're', 'wo']\n"
          ]
        }
      ],
      "source": [
        "num_row = 2\n",
        "num_col = 5\n",
        "\n",
        "classes = trainset.classes\n",
        "\n",
        "fig, axes = plt.subplots(num_row, num_col, figsize=(1.5*num_col, 2*num_row))\n",
        "for i in range(num_row*num_col):\n",
        "    ax = axes[i//num_col, i%num_col]\n",
        "    ax.imshow(trainset.data[i], cmap='gray')\n",
        "    ax.set_title('Label: {}'.format(classes[trainset.targets[i]]))\n",
        "plt.tight_layout()\n",
        "plt.show()\n",
        "\n",
        "print(f'Classes: {classes}')"
      ]
    },
    {
      "cell_type": "code",
      "execution_count": 4,
      "id": "872e4de1",
      "metadata": {
        "colab": {
          "base_uri": "https://localhost:8080/"
        },
        "id": "872e4de1",
        "outputId": "2dd40b52-b8cb-429f-b455-b77634dc4580"
      },
      "outputs": [
        {
          "output_type": "stream",
          "name": "stdout",
          "text": [
            "Single image dimensions: torch.Size([28, 28])\n",
            "Image batch dimensions: torch.Size([64, 1, 28, 28])\n",
            "Image label dimensions: torch.Size([64])\n"
          ]
        }
      ],
      "source": [
        "# printing data shapes\n",
        "print(\"Single image dimensions:\", trainset.data[0].shape)\n",
        "for images, labels in trainloader:\n",
        "    print(\"Image batch dimensions:\", images.shape)\n",
        "    print(\"Image label dimensions:\", labels.shape)\n",
        "    break"
      ]
    },
    {
      "cell_type": "markdown",
      "id": "017c7dc0",
      "metadata": {
        "id": "017c7dc0"
      },
      "source": [
        "## Model building\n",
        "1. For each architecture, tune the number of the hidden layers ( ≤3 ), the optimizer, and some hyperparameters of your choice. How many tries to do is up to your discretion"
      ]
    },
    {
      "cell_type": "markdown",
      "id": "9gUsKJTztCES",
      "metadata": {
        "id": "9gUsKJTztCES"
      },
      "source": [
        "### Fully connected"
      ]
    },
    {
      "cell_type": "code",
      "execution_count": 5,
      "id": "wcjmy8acdyCU",
      "metadata": {
        "id": "wcjmy8acdyCU"
      },
      "outputs": [],
      "source": [
        "class FullyConnected_1(nn.Module):\n",
        "    def __init__(self):\n",
        "        super(FullyConnected_1, self).__init__()\n",
        "\n",
        "        self.l1 = nn.Linear(28 * 28, 32 * 26 * 26)  # Input size: 28*28 (dimensione immagine KMNIST)\n",
        "        self.l2 = nn.Linear(32 * 26 * 26, 128)\n",
        "        self.l3 = nn.Linear(128, 10)\n",
        "\n",
        "\n",
        "    def forward(self, x):\n",
        "        # Flatten: BSx1x28x28 => BSx(28*28)\n",
        "        x = x.view(x.size(0), -1)\n",
        "\n",
        "        # BSx(28*28) => BSx128\n",
        "        x = F.relu(self.l1(x))\n",
        "\n",
        "        # BSx128 => BSx64\n",
        "        x = F.relu(self.l2(x))\n",
        "\n",
        "        # BSx64 => BSx10\n",
        "        logits = self.l3(x)\n",
        "\n",
        "        # Softmax computation\n",
        "        out = F.softmax(logits, dim=1)\n",
        "\n",
        "        return out"
      ]
    },
    {
      "cell_type": "markdown",
      "id": "fd4e4784",
      "metadata": {
        "id": "fd4e4784"
      },
      "source": [
        "### Convolutional"
      ]
    },
    {
      "cell_type": "markdown",
      "id": "522ee1d7",
      "metadata": {
        "id": "522ee1d7"
      },
      "source": [
        "1 hidden layer"
      ]
    },
    {
      "cell_type": "code",
      "execution_count": 6,
      "id": "fb30555e",
      "metadata": {
        "id": "fb30555e"
      },
      "outputs": [],
      "source": [
        "class Convolutional_1(nn.Module):\n",
        "    def __init__(self):\n",
        "        super(Convolutional_1, self).__init__()\n",
        "\n",
        "        self.conv1 = nn.Conv2d(in_channels=1, out_channels=32, kernel_size=5)   # 28 - kernel_size +1 = 24\n",
        "        # max-pooling 2x2: 24 / 2 = 12\n",
        "        self.l1 = nn.Linear(32 * 12 * 12, 128)\n",
        "        self.l2 = nn.Linear(128, 10)\n",
        "\n",
        "\n",
        "    def forward(self, x):\n",
        "\n",
        "        x = self.conv1(x)               # Convolution: BSx1x28x28 => BSx32x24x24\n",
        "        x = F.relu(x)\n",
        "\n",
        "        x = F.max_pool2d(x,2)           # Max-pooling 2x2 => BSx32x12x12\n",
        "\n",
        "        x = x.flatten(start_dim = 1)    # flatten => BS x 21632\n",
        "\n",
        "        x = self.l1(x)                  # Linear: BSx(32*26*26) => BSx128\n",
        "        x = F.relu(x)\n",
        "\n",
        "        logits = self.l2(x)             # Linear: BSx128 => BSx10\n",
        "\n",
        "        # Softmax computation: ogni neurone in uscita avra un label assegnato; softmax indica la probabilita che appartenga effettivamente a quella classe\n",
        "        out = F.softmax(logits, dim=1)\n",
        "\n",
        "        return out"
      ]
    },
    {
      "cell_type": "markdown",
      "id": "bce33bb4",
      "metadata": {
        "id": "bce33bb4"
      },
      "source": [
        "3 hidden layers"
      ]
    },
    {
      "cell_type": "code",
      "execution_count": 7,
      "id": "tBcM6GGV1a_M",
      "metadata": {
        "id": "tBcM6GGV1a_M"
      },
      "outputs": [],
      "source": [
        "class Convolutional_3(nn.Module):\n",
        "    def __init__(self):\n",
        "        super(Convolutional_3, self).__init__()\n",
        "\n",
        "        self.conv1 = nn.Conv2d(in_channels=1, out_channels=32, kernel_size=5)       # 28 - kernel_size + 1 = 24\n",
        "        # max-pooling 2x2: 24 / 2 = 12\n",
        "        self.conv2 = nn.Conv2d(in_channels=32, out_channels=128, kernel_size=3)     # 12 - kernel_size + 1 = 10\n",
        "        # max-pooling 2x2: 10 / 2 = 5\n",
        "        self.l1 = nn.Linear(128 * 5 * 5, 256)\n",
        "        self.l2 = nn.Linear(256, 64)\n",
        "        self.l3 = nn.Linear(64, 10)\n",
        "\n",
        "\n",
        "    def forward(self, x):\n",
        "\n",
        "        x = self.conv1(x)               # Convolution: BSx1x28x28 => BSx32x24x24\n",
        "        x = F.relu(x)\n",
        "\n",
        "        x = F.max_pool2d(x,2)           # Max-pooling 2x2 => BSx32x12x12\n",
        "\n",
        "        x = self.conv2(x)\n",
        "        x = F.relu(x)\n",
        "\n",
        "        x = F.max_pool2d(x,2)           # Max-pooling 2x2 => BSx32x12x12\n",
        "\n",
        "        x = x.flatten(start_dim = 1)    # flatten => BS x 21632\n",
        "\n",
        "        x = self.l1(x)                  # Linear: BSx(32*26*26) => BSx128\n",
        "        x = F.relu(x)\n",
        "\n",
        "        x = self.l2(x)                  # Linear: BSx(32*26*26) => BSx128\n",
        "        x = F.relu(x)\n",
        "\n",
        "        logits = self.l3(x)             # Linear: BSx128 => BSx10\n",
        "\n",
        "        # Softmax computation: ogni neurone in uscita avra un label assegnato; softmax indica la probabilita che appartenga effettivamente a quella classe\n",
        "        out = F.softmax(logits, dim=1)\n",
        "\n",
        "        return out"
      ]
    },
    {
      "cell_type": "markdown",
      "id": "-6YxRsaf1hj6",
      "metadata": {
        "id": "-6YxRsaf1hj6"
      },
      "source": [
        "#### Training cycle"
      ]
    },
    {
      "cell_type": "code",
      "execution_count": 8,
      "id": "8f74f326",
      "metadata": {
        "id": "8f74f326"
      },
      "outputs": [],
      "source": [
        "def get_accuracy(logit, target):\n",
        "    corrects = (torch.max(logit, 1)[1].view(target.size()).data == target.data).sum()\n",
        "    accuracy = 100.0 * corrects / target.size(0)\n",
        "    return accuracy.item()\n",
        "\n",
        "\n",
        "def compute_weight_norm(model):\n",
        "    norm = 0.0\n",
        "    for name, param in model.named_parameters():\n",
        "      if \"weight\" in name:\n",
        "        norm += torch.norm(param.data, p= 2)\n",
        "    return norm.cpu().item()\n",
        "\n",
        "\n",
        "def train_model(model, num_epochs, trainloader, criterion, optimizer, lr):\n",
        "\n",
        "    device = torch.device(\"cuda\" if torch.cuda.is_available() else \"cpu\")\n",
        "    #device = torch.device('cpu')\n",
        "    print(f'Using device: {device}' if device=='cpu' else f'Using device: {device} ({torch.cuda.get_device_name()})')\n",
        "\n",
        "    print(f'Training model: {model.__class__.__name__}, with parameters\\n\\tEpochs: {num_epochs}\\n\\tLearning rate: {lr}\\n\\tLoss function: {criterion}\\n\\tOptimizer: {optimizer.__class__.__name__}\\n')\n",
        "\n",
        "    # Rich mac user\n",
        "    # device = torch.device(\"mps\" if torch.backends.mps.is_available() else \"cpu\")\n",
        "\n",
        "    model = model.to(device)\n",
        "\n",
        "    losses = []\n",
        "    accs = []\n",
        "\n",
        "    norms = []\n",
        "\n",
        "    for epoch in range(num_epochs):\n",
        "        train_running_loss = 0.0\n",
        "        train_acc = 0.0\n",
        "\n",
        "        # Set the model to training mode\n",
        "        model = model.train()\n",
        "        start = time()\n",
        "        ## training step\n",
        "        for i, (images, labels) in enumerate(trainloader):\n",
        "\n",
        "            images = images.to(device)\n",
        "            labels = labels.to(device)\n",
        "\n",
        "            ## forward + backprop + loss\n",
        "            logits = model(images)\n",
        "            loss = criterion(logits, labels)\n",
        "\n",
        "            # Reset the gradients to zero\n",
        "            optimizer.zero_grad()\n",
        "\n",
        "            loss.backward()\n",
        "\n",
        "            ## update model params\n",
        "            optimizer.step()\n",
        "\n",
        "            train_running_loss += loss.item()\n",
        "            train_acc += get_accuracy(logits, labels)\n",
        "\n",
        "        losses.append(train_running_loss / i)\n",
        "        accs.append(train_acc/i)\n",
        "\n",
        "        norms.append(compute_weight_norm(model))\n",
        "        model.eval()\n",
        "        print(f\"Epoch: {epoch+1} | Loss: {train_running_loss / i:.4f} | Train Accuracy: {train_acc/i:.4f} | Time: {time()-start:.2f}\")\n",
        "\n",
        "    print('\\n')\n",
        "    return losses, accs, norms, device, optimizer.__class__.__name__"
      ]
    },
    {
      "cell_type": "code",
      "execution_count": 9,
      "id": "CHZKKmYv5PZP",
      "metadata": {
        "colab": {
          "base_uri": "https://localhost:8080/"
        },
        "id": "CHZKKmYv5PZP",
        "outputId": "6ccce166-5ee5-4812-d790-f0bffed021fc"
      },
      "outputs": [
        {
          "output_type": "stream",
          "name": "stdout",
          "text": [
            "Using device: cuda (Tesla T4)\n",
            "Training model: FullyConnected_1, with parameters\n",
            "\tEpochs: 3\n",
            "\tLearning rate: 0.001\n",
            "\tLoss function: CrossEntropyLoss()\n",
            "\tOptimizer: SGD\n",
            "\n",
            "Epoch: 1 | Loss: 2.3025 | Train Accuracy: 21.9934 | Time: 12.19\n",
            "Epoch: 2 | Loss: 2.2959 | Train Accuracy: 37.8335 | Time: 11.41\n",
            "Epoch: 3 | Loss: 2.2866 | Train Accuracy: 45.0157 | Time: 11.56\n",
            "\n",
            "\n",
            "Using device: cuda (Tesla T4)\n",
            "Training model: FullyConnected_1, with parameters\n",
            "\tEpochs: 3\n",
            "\tLearning rate: 0.001\n",
            "\tLoss function: CrossEntropyLoss()\n",
            "\tOptimizer: Adam\n",
            "\n",
            "Epoch: 1 | Loss: 1.7346 | Train Accuracy: 72.7738 | Time: 15.36\n",
            "Epoch: 2 | Loss: 1.6019 | Train Accuracy: 86.1209 | Time: 15.41\n",
            "Epoch: 3 | Loss: 1.5825 | Train Accuracy: 88.0736 | Time: 14.99\n",
            "\n",
            "\n",
            "Using device: cuda (Tesla T4)\n",
            "Training model: Convolutional_1, with parameters\n",
            "\tEpochs: 3\n",
            "\tLearning rate: 0.001\n",
            "\tLoss function: CrossEntropyLoss()\n",
            "\tOptimizer: SGD\n",
            "\n",
            "Epoch: 1 | Loss: 2.3033 | Train Accuracy: 11.1559 | Time: 10.31\n",
            "Epoch: 2 | Loss: 2.3004 | Train Accuracy: 19.4370 | Time: 8.26\n",
            "Epoch: 3 | Loss: 2.2969 | Train Accuracy: 25.4903 | Time: 9.48\n",
            "\n",
            "\n",
            "Using device: cuda (Tesla T4)\n",
            "Training model: Convolutional_1, with parameters\n",
            "\tEpochs: 3\n",
            "\tLearning rate: 0.001\n",
            "\tLoss function: CrossEntropyLoss()\n",
            "\tOptimizer: Adam\n",
            "\n",
            "Epoch: 1 | Loss: 1.6527 | Train Accuracy: 81.7219 | Time: 9.55\n",
            "Epoch: 2 | Loss: 1.5573 | Train Accuracy: 90.9952 | Time: 9.32\n",
            "Epoch: 3 | Loss: 1.5319 | Train Accuracy: 93.3748 | Time: 9.64\n",
            "\n",
            "\n",
            "Using device: cuda (Tesla T4)\n",
            "Training model: Convolutional_3, with parameters\n",
            "\tEpochs: 3\n",
            "\tLearning rate: 0.001\n",
            "\tLoss function: CrossEntropyLoss()\n",
            "\tOptimizer: SGD\n",
            "\n",
            "Epoch: 1 | Loss: 2.3050 | Train Accuracy: 10.0120 | Time: 11.05\n",
            "Epoch: 2 | Loss: 2.3049 | Train Accuracy: 10.0137 | Time: 10.71\n",
            "Epoch: 3 | Loss: 2.3048 | Train Accuracy: 10.0120 | Time: 10.91\n",
            "\n",
            "\n",
            "Using device: cuda (Tesla T4)\n",
            "Training model: Convolutional_3, with parameters\n",
            "\tEpochs: 3\n",
            "\tLearning rate: 0.001\n",
            "\tLoss function: CrossEntropyLoss()\n",
            "\tOptimizer: Adam\n",
            "\n",
            "Epoch: 1 | Loss: 1.7130 | Train Accuracy: 75.2601 | Time: 11.08\n",
            "Epoch: 2 | Loss: 1.5325 | Train Accuracy: 93.2481 | Time: 10.38\n",
            "Epoch: 3 | Loss: 1.4948 | Train Accuracy: 96.9584 | Time: 10.84\n",
            "\n",
            "\n"
          ]
        }
      ],
      "source": [
        "models = [[FullyConnected_1(), FullyConnected_1()], [Convolutional_1(), Convolutional_1()], [Convolutional_3(), Convolutional_3()]]\n",
        "num_epochs = 3\n",
        "learning_rate = 0.001\n",
        "criterion = nn.CrossEntropyLoss()\n",
        "\n",
        "losses = []\n",
        "accuracies = []\n",
        "weight_norms = []\n",
        "optimizer_names = []\n",
        "\n",
        "for model in models:\n",
        "\n",
        "    loss_sgd, acc_sgd, W_sgd, device, sgd_name = train_model(model[0], num_epochs, trainloader, criterion, torch.optim.SGD(model[0].parameters(), lr=learning_rate), learning_rate)\n",
        "    loss_adam, acc_adam, W_adam, _, adam_name = train_model(model[1], num_epochs, trainloader, criterion, torch.optim.Adam(model[1].parameters(), lr=learning_rate), learning_rate)\n",
        "\n",
        "    losses.extend([loss_sgd, loss_adam])\n",
        "    accuracies.extend([acc_sgd, acc_adam])\n",
        "    weight_norms.extend([W_sgd, W_adam])\n",
        "    optimizer_names.extend([sgd_name, adam_name])\n",
        "\n",
        "# removing duplicate names\n",
        "optimizer_names = list(set(optimizer_names))\n",
        "optimizer_names.reverse()"
      ]
    },
    {
      "cell_type": "code",
      "execution_count": 10,
      "id": "enMhoQ8OMQFL",
      "metadata": {
        "colab": {
          "base_uri": "https://localhost:8080/"
        },
        "id": "enMhoQ8OMQFL",
        "outputId": "c84bd406-3436-4ea7-e3da-ecc2c9bce4a2"
      },
      "outputs": [
        {
          "output_type": "stream",
          "name": "stdout",
          "text": [
            "['SGD', 'Adam']\n"
          ]
        }
      ],
      "source": [
        "print(optimizer_names)"
      ]
    },
    {
      "cell_type": "code",
      "execution_count": 11,
      "id": "_blgM3cbn0kP",
      "metadata": {
        "colab": {
          "base_uri": "https://localhost:8080/"
        },
        "id": "_blgM3cbn0kP",
        "outputId": "d17759d8-c27a-45f5-e20f-b20864dc1dbe"
      },
      "outputs": [
        {
          "output_type": "stream",
          "name": "stdout",
          "text": [
            "cuda\n"
          ]
        }
      ],
      "source": [
        "print(device)"
      ]
    },
    {
      "cell_type": "markdown",
      "id": "LpDO9tKRz8wn",
      "metadata": {
        "id": "LpDO9tKRz8wn"
      },
      "source": [
        "## Tables\n",
        "3. Summarise your results in a table and comment on them in the report."
      ]
    },
    {
      "cell_type": "code",
      "execution_count": 12,
      "id": "4waASeaSIMw4",
      "metadata": {
        "colab": {
          "base_uri": "https://localhost:8080/",
          "height": 676
        },
        "id": "4waASeaSIMw4",
        "outputId": "94426c91-58d0-48fc-b732-6fdccde656a7"
      },
      "outputs": [
        {
          "output_type": "execute_result",
          "data": {
            "text/plain": [
              "               Model Optimizer Epoch      Loss Accuracy (train)\n",
              "0   FullyConnected_1       SGD     1   2.30255        21.993396\n",
              "1   FullyConnected_1       SGD     2  2.295898        37.833511\n",
              "2   FullyConnected_1       SGD     3  2.286569        45.015675\n",
              "3   FullyConnected_1      Adam     1  1.734555        72.773813\n",
              "4   FullyConnected_1      Adam     2  1.601868        86.120931\n",
              "5   FullyConnected_1      Adam     3  1.582525        88.073639\n",
              "6                ---       ---   ---       ---              ---\n",
              "7    Convolutional_1       SGD     1  2.303294         11.15595\n",
              "8    Convolutional_1       SGD     2  2.300375        19.437033\n",
              "9    Convolutional_1       SGD     3  2.296899        25.490261\n",
              "10   Convolutional_1      Adam     1  1.652669        81.721918\n",
              "11   Convolutional_1      Adam     2  1.557337        90.995197\n",
              "12   Convolutional_1      Adam     3  1.531878          93.3748\n",
              "13               ---       ---   ---       ---              ---\n",
              "14   Convolutional_3       SGD     1  2.305012        10.012006\n",
              "15   Convolutional_3       SGD     2  2.304888        10.013674\n",
              "16   Convolutional_3       SGD     3  2.304775        10.012006\n",
              "17   Convolutional_3      Adam     1  1.713026        75.260139\n",
              "18   Convolutional_3      Adam     2  1.532456        93.248066\n",
              "19   Convolutional_3      Adam     3   1.49483        96.958378"
            ],
            "text/html": [
              "\n",
              "  <div id=\"df-2a487418-ef9d-4416-920e-8c578963c954\" class=\"colab-df-container\">\n",
              "    <div>\n",
              "<style scoped>\n",
              "    .dataframe tbody tr th:only-of-type {\n",
              "        vertical-align: middle;\n",
              "    }\n",
              "\n",
              "    .dataframe tbody tr th {\n",
              "        vertical-align: top;\n",
              "    }\n",
              "\n",
              "    .dataframe thead th {\n",
              "        text-align: right;\n",
              "    }\n",
              "</style>\n",
              "<table border=\"1\" class=\"dataframe\">\n",
              "  <thead>\n",
              "    <tr style=\"text-align: right;\">\n",
              "      <th></th>\n",
              "      <th>Model</th>\n",
              "      <th>Optimizer</th>\n",
              "      <th>Epoch</th>\n",
              "      <th>Loss</th>\n",
              "      <th>Accuracy (train)</th>\n",
              "    </tr>\n",
              "  </thead>\n",
              "  <tbody>\n",
              "    <tr>\n",
              "      <th>0</th>\n",
              "      <td>FullyConnected_1</td>\n",
              "      <td>SGD</td>\n",
              "      <td>1</td>\n",
              "      <td>2.30255</td>\n",
              "      <td>21.993396</td>\n",
              "    </tr>\n",
              "    <tr>\n",
              "      <th>1</th>\n",
              "      <td>FullyConnected_1</td>\n",
              "      <td>SGD</td>\n",
              "      <td>2</td>\n",
              "      <td>2.295898</td>\n",
              "      <td>37.833511</td>\n",
              "    </tr>\n",
              "    <tr>\n",
              "      <th>2</th>\n",
              "      <td>FullyConnected_1</td>\n",
              "      <td>SGD</td>\n",
              "      <td>3</td>\n",
              "      <td>2.286569</td>\n",
              "      <td>45.015675</td>\n",
              "    </tr>\n",
              "    <tr>\n",
              "      <th>3</th>\n",
              "      <td>FullyConnected_1</td>\n",
              "      <td>Adam</td>\n",
              "      <td>1</td>\n",
              "      <td>1.734555</td>\n",
              "      <td>72.773813</td>\n",
              "    </tr>\n",
              "    <tr>\n",
              "      <th>4</th>\n",
              "      <td>FullyConnected_1</td>\n",
              "      <td>Adam</td>\n",
              "      <td>2</td>\n",
              "      <td>1.601868</td>\n",
              "      <td>86.120931</td>\n",
              "    </tr>\n",
              "    <tr>\n",
              "      <th>5</th>\n",
              "      <td>FullyConnected_1</td>\n",
              "      <td>Adam</td>\n",
              "      <td>3</td>\n",
              "      <td>1.582525</td>\n",
              "      <td>88.073639</td>\n",
              "    </tr>\n",
              "    <tr>\n",
              "      <th>6</th>\n",
              "      <td>---</td>\n",
              "      <td>---</td>\n",
              "      <td>---</td>\n",
              "      <td>---</td>\n",
              "      <td>---</td>\n",
              "    </tr>\n",
              "    <tr>\n",
              "      <th>7</th>\n",
              "      <td>Convolutional_1</td>\n",
              "      <td>SGD</td>\n",
              "      <td>1</td>\n",
              "      <td>2.303294</td>\n",
              "      <td>11.15595</td>\n",
              "    </tr>\n",
              "    <tr>\n",
              "      <th>8</th>\n",
              "      <td>Convolutional_1</td>\n",
              "      <td>SGD</td>\n",
              "      <td>2</td>\n",
              "      <td>2.300375</td>\n",
              "      <td>19.437033</td>\n",
              "    </tr>\n",
              "    <tr>\n",
              "      <th>9</th>\n",
              "      <td>Convolutional_1</td>\n",
              "      <td>SGD</td>\n",
              "      <td>3</td>\n",
              "      <td>2.296899</td>\n",
              "      <td>25.490261</td>\n",
              "    </tr>\n",
              "    <tr>\n",
              "      <th>10</th>\n",
              "      <td>Convolutional_1</td>\n",
              "      <td>Adam</td>\n",
              "      <td>1</td>\n",
              "      <td>1.652669</td>\n",
              "      <td>81.721918</td>\n",
              "    </tr>\n",
              "    <tr>\n",
              "      <th>11</th>\n",
              "      <td>Convolutional_1</td>\n",
              "      <td>Adam</td>\n",
              "      <td>2</td>\n",
              "      <td>1.557337</td>\n",
              "      <td>90.995197</td>\n",
              "    </tr>\n",
              "    <tr>\n",
              "      <th>12</th>\n",
              "      <td>Convolutional_1</td>\n",
              "      <td>Adam</td>\n",
              "      <td>3</td>\n",
              "      <td>1.531878</td>\n",
              "      <td>93.3748</td>\n",
              "    </tr>\n",
              "    <tr>\n",
              "      <th>13</th>\n",
              "      <td>---</td>\n",
              "      <td>---</td>\n",
              "      <td>---</td>\n",
              "      <td>---</td>\n",
              "      <td>---</td>\n",
              "    </tr>\n",
              "    <tr>\n",
              "      <th>14</th>\n",
              "      <td>Convolutional_3</td>\n",
              "      <td>SGD</td>\n",
              "      <td>1</td>\n",
              "      <td>2.305012</td>\n",
              "      <td>10.012006</td>\n",
              "    </tr>\n",
              "    <tr>\n",
              "      <th>15</th>\n",
              "      <td>Convolutional_3</td>\n",
              "      <td>SGD</td>\n",
              "      <td>2</td>\n",
              "      <td>2.304888</td>\n",
              "      <td>10.013674</td>\n",
              "    </tr>\n",
              "    <tr>\n",
              "      <th>16</th>\n",
              "      <td>Convolutional_3</td>\n",
              "      <td>SGD</td>\n",
              "      <td>3</td>\n",
              "      <td>2.304775</td>\n",
              "      <td>10.012006</td>\n",
              "    </tr>\n",
              "    <tr>\n",
              "      <th>17</th>\n",
              "      <td>Convolutional_3</td>\n",
              "      <td>Adam</td>\n",
              "      <td>1</td>\n",
              "      <td>1.713026</td>\n",
              "      <td>75.260139</td>\n",
              "    </tr>\n",
              "    <tr>\n",
              "      <th>18</th>\n",
              "      <td>Convolutional_3</td>\n",
              "      <td>Adam</td>\n",
              "      <td>2</td>\n",
              "      <td>1.532456</td>\n",
              "      <td>93.248066</td>\n",
              "    </tr>\n",
              "    <tr>\n",
              "      <th>19</th>\n",
              "      <td>Convolutional_3</td>\n",
              "      <td>Adam</td>\n",
              "      <td>3</td>\n",
              "      <td>1.49483</td>\n",
              "      <td>96.958378</td>\n",
              "    </tr>\n",
              "  </tbody>\n",
              "</table>\n",
              "</div>\n",
              "    <div class=\"colab-df-buttons\">\n",
              "\n",
              "  <div class=\"colab-df-container\">\n",
              "    <button class=\"colab-df-convert\" onclick=\"convertToInteractive('df-2a487418-ef9d-4416-920e-8c578963c954')\"\n",
              "            title=\"Convert this dataframe to an interactive table.\"\n",
              "            style=\"display:none;\">\n",
              "\n",
              "  <svg xmlns=\"http://www.w3.org/2000/svg\" height=\"24px\" viewBox=\"0 -960 960 960\">\n",
              "    <path d=\"M120-120v-720h720v720H120Zm60-500h600v-160H180v160Zm220 220h160v-160H400v160Zm0 220h160v-160H400v160ZM180-400h160v-160H180v160Zm440 0h160v-160H620v160ZM180-180h160v-160H180v160Zm440 0h160v-160H620v160Z\"/>\n",
              "  </svg>\n",
              "    </button>\n",
              "\n",
              "  <style>\n",
              "    .colab-df-container {\n",
              "      display:flex;\n",
              "      gap: 12px;\n",
              "    }\n",
              "\n",
              "    .colab-df-convert {\n",
              "      background-color: #E8F0FE;\n",
              "      border: none;\n",
              "      border-radius: 50%;\n",
              "      cursor: pointer;\n",
              "      display: none;\n",
              "      fill: #1967D2;\n",
              "      height: 32px;\n",
              "      padding: 0 0 0 0;\n",
              "      width: 32px;\n",
              "    }\n",
              "\n",
              "    .colab-df-convert:hover {\n",
              "      background-color: #E2EBFA;\n",
              "      box-shadow: 0px 1px 2px rgba(60, 64, 67, 0.3), 0px 1px 3px 1px rgba(60, 64, 67, 0.15);\n",
              "      fill: #174EA6;\n",
              "    }\n",
              "\n",
              "    .colab-df-buttons div {\n",
              "      margin-bottom: 4px;\n",
              "    }\n",
              "\n",
              "    [theme=dark] .colab-df-convert {\n",
              "      background-color: #3B4455;\n",
              "      fill: #D2E3FC;\n",
              "    }\n",
              "\n",
              "    [theme=dark] .colab-df-convert:hover {\n",
              "      background-color: #434B5C;\n",
              "      box-shadow: 0px 1px 3px 1px rgba(0, 0, 0, 0.15);\n",
              "      filter: drop-shadow(0px 1px 2px rgba(0, 0, 0, 0.3));\n",
              "      fill: #FFFFFF;\n",
              "    }\n",
              "  </style>\n",
              "\n",
              "    <script>\n",
              "      const buttonEl =\n",
              "        document.querySelector('#df-2a487418-ef9d-4416-920e-8c578963c954 button.colab-df-convert');\n",
              "      buttonEl.style.display =\n",
              "        google.colab.kernel.accessAllowed ? 'block' : 'none';\n",
              "\n",
              "      async function convertToInteractive(key) {\n",
              "        const element = document.querySelector('#df-2a487418-ef9d-4416-920e-8c578963c954');\n",
              "        const dataTable =\n",
              "          await google.colab.kernel.invokeFunction('convertToInteractive',\n",
              "                                                    [key], {});\n",
              "        if (!dataTable) return;\n",
              "\n",
              "        const docLinkHtml = 'Like what you see? Visit the ' +\n",
              "          '<a target=\"_blank\" href=https://colab.research.google.com/notebooks/data_table.ipynb>data table notebook</a>'\n",
              "          + ' to learn more about interactive tables.';\n",
              "        element.innerHTML = '';\n",
              "        dataTable['output_type'] = 'display_data';\n",
              "        await google.colab.output.renderOutput(dataTable, element);\n",
              "        const docLink = document.createElement('div');\n",
              "        docLink.innerHTML = docLinkHtml;\n",
              "        element.appendChild(docLink);\n",
              "      }\n",
              "    </script>\n",
              "  </div>\n",
              "\n",
              "\n",
              "<div id=\"df-ab176687-06e0-4b5c-bdff-2651e9a2402c\">\n",
              "  <button class=\"colab-df-quickchart\" onclick=\"quickchart('df-ab176687-06e0-4b5c-bdff-2651e9a2402c')\"\n",
              "            title=\"Suggest charts\"\n",
              "            style=\"display:none;\">\n",
              "\n",
              "<svg xmlns=\"http://www.w3.org/2000/svg\" height=\"24px\"viewBox=\"0 0 24 24\"\n",
              "     width=\"24px\">\n",
              "    <g>\n",
              "        <path d=\"M19 3H5c-1.1 0-2 .9-2 2v14c0 1.1.9 2 2 2h14c1.1 0 2-.9 2-2V5c0-1.1-.9-2-2-2zM9 17H7v-7h2v7zm4 0h-2V7h2v10zm4 0h-2v-4h2v4z\"/>\n",
              "    </g>\n",
              "</svg>\n",
              "  </button>\n",
              "\n",
              "<style>\n",
              "  .colab-df-quickchart {\n",
              "      --bg-color: #E8F0FE;\n",
              "      --fill-color: #1967D2;\n",
              "      --hover-bg-color: #E2EBFA;\n",
              "      --hover-fill-color: #174EA6;\n",
              "      --disabled-fill-color: #AAA;\n",
              "      --disabled-bg-color: #DDD;\n",
              "  }\n",
              "\n",
              "  [theme=dark] .colab-df-quickchart {\n",
              "      --bg-color: #3B4455;\n",
              "      --fill-color: #D2E3FC;\n",
              "      --hover-bg-color: #434B5C;\n",
              "      --hover-fill-color: #FFFFFF;\n",
              "      --disabled-bg-color: #3B4455;\n",
              "      --disabled-fill-color: #666;\n",
              "  }\n",
              "\n",
              "  .colab-df-quickchart {\n",
              "    background-color: var(--bg-color);\n",
              "    border: none;\n",
              "    border-radius: 50%;\n",
              "    cursor: pointer;\n",
              "    display: none;\n",
              "    fill: var(--fill-color);\n",
              "    height: 32px;\n",
              "    padding: 0;\n",
              "    width: 32px;\n",
              "  }\n",
              "\n",
              "  .colab-df-quickchart:hover {\n",
              "    background-color: var(--hover-bg-color);\n",
              "    box-shadow: 0 1px 2px rgba(60, 64, 67, 0.3), 0 1px 3px 1px rgba(60, 64, 67, 0.15);\n",
              "    fill: var(--button-hover-fill-color);\n",
              "  }\n",
              "\n",
              "  .colab-df-quickchart-complete:disabled,\n",
              "  .colab-df-quickchart-complete:disabled:hover {\n",
              "    background-color: var(--disabled-bg-color);\n",
              "    fill: var(--disabled-fill-color);\n",
              "    box-shadow: none;\n",
              "  }\n",
              "\n",
              "  .colab-df-spinner {\n",
              "    border: 2px solid var(--fill-color);\n",
              "    border-color: transparent;\n",
              "    border-bottom-color: var(--fill-color);\n",
              "    animation:\n",
              "      spin 1s steps(1) infinite;\n",
              "  }\n",
              "\n",
              "  @keyframes spin {\n",
              "    0% {\n",
              "      border-color: transparent;\n",
              "      border-bottom-color: var(--fill-color);\n",
              "      border-left-color: var(--fill-color);\n",
              "    }\n",
              "    20% {\n",
              "      border-color: transparent;\n",
              "      border-left-color: var(--fill-color);\n",
              "      border-top-color: var(--fill-color);\n",
              "    }\n",
              "    30% {\n",
              "      border-color: transparent;\n",
              "      border-left-color: var(--fill-color);\n",
              "      border-top-color: var(--fill-color);\n",
              "      border-right-color: var(--fill-color);\n",
              "    }\n",
              "    40% {\n",
              "      border-color: transparent;\n",
              "      border-right-color: var(--fill-color);\n",
              "      border-top-color: var(--fill-color);\n",
              "    }\n",
              "    60% {\n",
              "      border-color: transparent;\n",
              "      border-right-color: var(--fill-color);\n",
              "    }\n",
              "    80% {\n",
              "      border-color: transparent;\n",
              "      border-right-color: var(--fill-color);\n",
              "      border-bottom-color: var(--fill-color);\n",
              "    }\n",
              "    90% {\n",
              "      border-color: transparent;\n",
              "      border-bottom-color: var(--fill-color);\n",
              "    }\n",
              "  }\n",
              "</style>\n",
              "\n",
              "  <script>\n",
              "    async function quickchart(key) {\n",
              "      const quickchartButtonEl =\n",
              "        document.querySelector('#' + key + ' button');\n",
              "      quickchartButtonEl.disabled = true;  // To prevent multiple clicks.\n",
              "      quickchartButtonEl.classList.add('colab-df-spinner');\n",
              "      try {\n",
              "        const charts = await google.colab.kernel.invokeFunction(\n",
              "            'suggestCharts', [key], {});\n",
              "      } catch (error) {\n",
              "        console.error('Error during call to suggestCharts:', error);\n",
              "      }\n",
              "      quickchartButtonEl.classList.remove('colab-df-spinner');\n",
              "      quickchartButtonEl.classList.add('colab-df-quickchart-complete');\n",
              "    }\n",
              "    (() => {\n",
              "      let quickchartButtonEl =\n",
              "        document.querySelector('#df-ab176687-06e0-4b5c-bdff-2651e9a2402c button');\n",
              "      quickchartButtonEl.style.display =\n",
              "        google.colab.kernel.accessAllowed ? 'block' : 'none';\n",
              "    })();\n",
              "  </script>\n",
              "</div>\n",
              "    </div>\n",
              "  </div>\n"
            ],
            "application/vnd.google.colaboratory.intrinsic+json": {
              "type": "dataframe",
              "variable_name": "table",
              "summary": "{\n  \"name\": \"table\",\n  \"rows\": 20,\n  \"fields\": [\n    {\n      \"column\": \"Model\",\n      \"properties\": {\n        \"dtype\": \"category\",\n        \"num_unique_values\": 4,\n        \"samples\": [\n          \"---\",\n          \"Convolutional_3\",\n          \"FullyConnected_1\"\n        ],\n        \"semantic_type\": \"\",\n        \"description\": \"\"\n      }\n    },\n    {\n      \"column\": \"Optimizer\",\n      \"properties\": {\n        \"dtype\": \"category\",\n        \"num_unique_values\": 3,\n        \"samples\": [\n          \"SGD\",\n          \"Adam\",\n          \"---\"\n        ],\n        \"semantic_type\": \"\",\n        \"description\": \"\"\n      }\n    },\n    {\n      \"column\": \"Epoch\",\n      \"properties\": {\n        \"dtype\": \"category\",\n        \"num_unique_values\": 4,\n        \"samples\": [\n          2,\n          \"---\",\n          1\n        ],\n        \"semantic_type\": \"\",\n        \"description\": \"\"\n      }\n    },\n    {\n      \"column\": \"Loss\",\n      \"properties\": {\n        \"dtype\": \"string\",\n        \"num_unique_values\": 19,\n        \"samples\": [\n          2.302549517650869,\n          1.5825246288784032,\n          1.5573371862525491\n        ],\n        \"semantic_type\": \"\",\n        \"description\": \"\"\n      }\n    },\n    {\n      \"column\": \"Accuracy (train)\",\n      \"properties\": {\n        \"dtype\": \"string\",\n        \"num_unique_values\": 18,\n        \"samples\": [\n          21.993396478121664,\n          37.83351120597652,\n          19.437033084311633\n        ],\n        \"semantic_type\": \"\",\n        \"description\": \"\"\n      }\n    }\n  ]\n}"
            }
          },
          "metadata": {},
          "execution_count": 12
        }
      ],
      "source": [
        "num_models = len(models)                   # number of models: in this case, 3 (FullyConnected_1, Convolutional_1, Convolutional_3)\n",
        "num_optimizers = len(optimizer_names)      # number of optimizers: in this case, 2 (SGD and Adam)\n",
        "num_rows = num_epochs * num_models * num_optimizers\n",
        "\n",
        "table = pd.DataFrame({'Model' : [models[i][0].__class__.__name__ for i in range(num_models) for j in range(num_epochs*num_optimizers)],\n",
        "         'Optimizer' : [optimizer_names[i] for k in range(num_models) for i in range(num_optimizers) for j in range(num_epochs)],\n",
        "         'Epoch': [i % (num_epochs) + 1 for i in range(num_rows)],\n",
        "         'Loss': [losses[i][j] for i in range(num_models*num_optimizers) for j in range(num_epochs)],\n",
        "         'Accuracy (train)': [accuracies[i][j] for i in range(num_models*num_optimizers) for j in range(num_epochs)],\n",
        "        })\n",
        "\n",
        "separator = pd.DataFrame({'Model' : ['---'],\n",
        "         'Optimizer' : ['---'],\n",
        "         'Epoch': ['---'],\n",
        "         'Loss': ['---'],\n",
        "         'Accuracy (train)': ['---'],\n",
        "        })\n",
        "\n",
        "for i in range(num_optimizers*num_epochs, num_rows, num_optimizers*num_epochs+1):\n",
        "        table = pd.concat([table.iloc[:i], separator, table.iloc[i:]]).reset_index(drop=True)\n",
        "\n",
        "table"
      ]
    },
    {
      "cell_type": "markdown",
      "source": [
        "## Plotting\n",
        "4. For a model (not necessarily the best performing one), plot training loss vs testing loss and training accuracy vs testing accuracy, and comment on what you see."
      ],
      "metadata": {
        "id": "2SUSZqlzLhIM"
      },
      "id": "2SUSZqlzLhIM"
    },
    {
      "cell_type": "code",
      "execution_count": 20,
      "id": "b08b0063",
      "metadata": {
        "colab": {
          "base_uri": "https://localhost:8080/"
        },
        "id": "b08b0063",
        "outputId": "66d3a6ae-1eb2-4cb1-e79e-5d9e60dafb08"
      },
      "outputs": [
        {
          "output_type": "stream",
          "name": "stdout",
          "text": [
            "Using device: cuda (Tesla T4)\n",
            "Training model: Convolutional_3, with parameters\n",
            "\tEpochs: 5\n",
            "\tLearning rate: 0.001\n",
            "\tLoss function: CrossEntropyLoss()\n",
            "\tOptimizer: Adam\n",
            "\n",
            "Epoch: 1 | Loss: 1.6506 | Train Accuracy: 81.6752 | Time: 10.64\n",
            "Epoch: 2 | Loss: 1.5380 | Train Accuracy: 92.6978 | Time: 9.88\n",
            "Epoch: 3 | Loss: 1.5059 | Train Accuracy: 95.9045 | Time: 10.58\n",
            "Epoch: 4 | Loss: 1.4892 | Train Accuracy: 97.5253 | Time: 10.65\n",
            "Epoch: 5 | Loss: 1.4848 | Train Accuracy: 97.9406 | Time: 10.56\n",
            "\n",
            "\n"
          ]
        }
      ],
      "source": [
        "# Number of times the whole (training) dataset is used for training\n",
        "model = Convolutional_3()\n",
        "num_epochs = 5\n",
        "learning_rate = 0.001\n",
        "criterion = nn.CrossEntropyLoss() # loss function\n",
        "optimizer = torch.optim.Adam(model.parameters(), lr=learning_rate)\n",
        "\n",
        "\n",
        "loss, accuracies, W, device, optimizer = train_model(model, num_epochs, trainloader, criterion, optimizer, learning_rate)"
      ]
    },
    {
      "cell_type": "code",
      "source": [
        "print(loss[0])"
      ],
      "metadata": {
        "colab": {
          "base_uri": "https://localhost:8080/"
        },
        "id": "xUrvAc0dFOft",
        "outputId": "5b72b33f-f26c-4217-ddab-f42bc7b6545a"
      },
      "id": "xUrvAc0dFOft",
      "execution_count": 14,
      "outputs": [
        {
          "output_type": "stream",
          "name": "stdout",
          "text": [
            "1.6505608930150117\n"
          ]
        }
      ]
    },
    {
      "cell_type": "code",
      "source": [
        "fig, [ax1, ax2] = plt.subplots(1, 2, figsize=(12, 6))\n",
        "\n",
        "ax1.plot(range(1, num_epochs+1), accuracies)\n",
        "ax1.set_xlabel('Epochs')\n",
        "ax1.set_ylabel('Accuracy (%)')\n",
        "ax1.set_title('Training Accuracy')\n",
        "\n",
        "ax2.plot(range(1, num_epochs+1), loss)\n",
        "ax2.set_xlabel('Epochs')\n",
        "ax2.set_ylabel('Loss')\n",
        "ax2.set_title('Training Loss')\n",
        "\n",
        "# plt.tight_layout()\n",
        "plt.show()"
      ],
      "metadata": {
        "colab": {
          "base_uri": "https://localhost:8080/",
          "height": 564
        },
        "id": "Gcc7GNFaEAgO",
        "outputId": "d168462d-cdf4-467c-a085-154c1d3a51e1"
      },
      "id": "Gcc7GNFaEAgO",
      "execution_count": 24,
      "outputs": [
        {
          "output_type": "display_data",
          "data": {
            "text/plain": [
              "<Figure size 1200x600 with 2 Axes>"
            ],
            "image/png": "[encoded data removed]"
          },
          "metadata": {}
        }
      ]
    },
    {
      "cell_type": "code",
      "execution_count": 17,
      "id": "73dc8354",
      "metadata": {
        "colab": {
          "base_uri": "https://localhost:8080/",
          "height": 507
        },
        "id": "73dc8354",
        "outputId": "76fa652b-8c8a-4426-ccda-65f3bf6f17b6"
      },
      "outputs": [
        {
          "output_type": "stream",
          "name": "stdout",
          "text": [
            "Test Accuracy: 93.9904\n",
            "Test Loss: 1.5378\n"
          ]
        },
        {
          "output_type": "display_data",
          "data": {
            "text/plain": [
              "<Figure size 640x480 with 1 Axes>"
            ],
            "image/png": "[encoded data removed]"
          },
          "metadata": {}
        }
      ],
      "source": [
        "test_running_acc = 0.0\n",
        "test_running_loss = 0.0\n",
        "test_accuracy = []\n",
        "test_loss = []\n",
        "for i, (images, labels) in enumerate(testloader, 0):\n",
        "    images = images.to(device)\n",
        "    labels = labels.to(device)\n",
        "    outputs = model(images)\n",
        "    loss = criterion(outputs, labels)\n",
        "    test_running_loss += loss.item()/(len(testloader) - 1)\n",
        "    test_running_acc += get_accuracy(outputs, labels)/(len(testloader) - 1)\n",
        "\n",
        "    test_accuracy += [test_running_acc]\n",
        "    test_loss += [test_running_loss]\n",
        "\n",
        "print(f\"Test Accuracy: {test_running_acc:.4f}\")\n",
        "print(f\"Test Loss: {test_running_loss:.4f}\")\n",
        "\n",
        "# Plot dell'accuracy\n",
        "plt.plot(test_accuracy)\n",
        "plt.ylim(0, 100)\n",
        "plt.xlabel('Number of images')\n",
        "plt.ylabel('Accuracy (%)')\n",
        "plt.title('Model test accuracy')\n",
        "plt.show()"
      ]
    }
  ],
  "metadata": {
    "accelerator": "GPU",
    "colab": {
      "gpuType": "T4",
      "provenance": []
    },
    "kernelspec": {
      "display_name": "Python 3",
      "name": "python3"
    },
    "language_info": {
      "codemirror_mode": {
        "name": "ipython",
        "version": 3
      },
      "file_extension": ".py",
      "mimetype": "text/x-python",
      "name": "python",
      "nbconvert_exporter": "python",
      "pygments_lexer": "ipython3",
      "version": "3.12.0"
    }
  },
  "nbformat": 4,
  "nbformat_minor": 5
}